{
  "nbformat": 4,
  "nbformat_minor": 0,
  "metadata": {
    "colab": {
      "provenance": []
    },
    "kernelspec": {
      "name": "python3",
      "display_name": "Python 3"
    },
    "language_info": {
      "name": "python"
    }
  },
  "cells": [
    {
      "cell_type": "code",
      "execution_count": null,
      "metadata": {
        "colab": {
          "base_uri": "https://localhost:8080/"
        },
        "id": "uB0J20zVjPH1",
        "outputId": "b6d28aa4-a54b-4675-813b-3da1338f4c05"
      },
      "outputs": [
        {
          "output_type": "stream",
          "name": "stdout",
          "text": [
            "hello\n"
          ]
        }
      ],
      "source": [
        "print('hello')"
      ]
    },
    {
      "cell_type": "markdown",
      "source": [
        "# Lists\n",
        "\n",
        "* Lists are ordered collections of elements , and they are mutable , access elements in a list by their index.\n",
        "* Lists allow duplicate elements."
      ],
      "metadata": {
        "id": "988N48xvUB6t"
      }
    },
    {
      "cell_type": "code",
      "source": [
        "# list\n",
        "\n",
        "l = [10,20,30]\n",
        "print(l)\n",
        "print(type(l))"
      ],
      "metadata": {
        "colab": {
          "base_uri": "https://localhost:8080/"
        },
        "id": "v10JG1SXjSJM",
        "outputId": "753f594f-46ba-4446-ba55-0a443c743240"
      },
      "execution_count": null,
      "outputs": [
        {
          "output_type": "stream",
          "name": "stdout",
          "text": [
            "[10, 20, 30]\n",
            "<class 'list'>\n"
          ]
        }
      ]
    },
    {
      "cell_type": "code",
      "source": [
        "# list\n",
        "\n",
        "li = list((10,20,30))\n",
        "print(li)\n",
        "print(type(li))"
      ],
      "metadata": {
        "colab": {
          "base_uri": "https://localhost:8080/"
        },
        "id": "AOXTENUijbsj",
        "outputId": "2b337e34-14ca-4ece-8383-6c81bac2d785"
      },
      "execution_count": null,
      "outputs": [
        {
          "output_type": "stream",
          "name": "stdout",
          "text": [
            "[10, 20, 30]\n",
            "<class 'list'>\n"
          ]
        }
      ]
    },
    {
      "cell_type": "markdown",
      "source": [
        "# Tuples\n",
        "\n",
        "* Tuples are similar to lists but are immutable, They are used when you want to ensure that the data remains constant.\n",
        "* Tuples allow duplicate elements."
      ],
      "metadata": {
        "id": "R0i38qIvVN54"
      }
    },
    {
      "cell_type": "code",
      "source": [
        "# tuple\n",
        "\n",
        "t = (10,20,30)\n",
        "print(t)\n",
        "print(type(t))"
      ],
      "metadata": {
        "colab": {
          "base_uri": "https://localhost:8080/"
        },
        "id": "BcAnEXuWjjUi",
        "outputId": "46be8b7f-fbac-4abf-f444-cd5d4389b3c3"
      },
      "execution_count": null,
      "outputs": [
        {
          "output_type": "stream",
          "name": "stdout",
          "text": [
            "(10, 20, 30)\n",
            "<class 'tuple'>\n"
          ]
        }
      ]
    },
    {
      "cell_type": "markdown",
      "source": [
        "# Dictionary\n",
        "\n",
        "* Dictionaries are unordered collections of key-value pairs. Each key in a dictionary maps to a specific value, and they are mutable.\n",
        "* access values in a dictionary by their keys.\n",
        "* Keys in a dictionary must be unique, but the values can be duplicated."
      ],
      "metadata": {
        "id": "EwjlAyWeVqBd"
      }
    },
    {
      "cell_type": "code",
      "source": [
        "# dictionary\n",
        "\n",
        "d = {\"name\":\"kavan\",\n",
        "     \"address\":\"kutch\",\n",
        "     \"age\":21}\n",
        "\n",
        "print(d)\n",
        "print(type(d))"
      ],
      "metadata": {
        "colab": {
          "base_uri": "https://localhost:8080/"
        },
        "id": "QBumx8fbj78a",
        "outputId": "7d230d4f-723c-45da-b6da-a41e1dcf765a"
      },
      "execution_count": null,
      "outputs": [
        {
          "output_type": "stream",
          "name": "stdout",
          "text": [
            "{'name': 'kavan', 'address': 'kutch', 'age': 21}\n",
            "<class 'dict'>\n"
          ]
        }
      ]
    },
    {
      "cell_type": "code",
      "source": [
        "# dictionary\n",
        "\n",
        "d1 = dict({\"name\":\"kavan\",\n",
        "          \"address\":\"kutch\",\n",
        "          \"age\":21})\n",
        "\n",
        "print(d1)\n",
        "print(type(d1))"
      ],
      "metadata": {
        "colab": {
          "base_uri": "https://localhost:8080/"
        },
        "id": "PZJl3ptqlhYP",
        "outputId": "06e36d0c-cc57-45b2-a4a5-2259c1a90eda"
      },
      "execution_count": null,
      "outputs": [
        {
          "output_type": "stream",
          "name": "stdout",
          "text": [
            "{'name': 'kavan', 'address': 'kutch', 'age': 21}\n",
            "<class 'dict'>\n"
          ]
        }
      ]
    },
    {
      "cell_type": "code",
      "source": [
        "d2 = { 'car':['maruti', 'tata', 'kia'],\n",
        "        'bus': ['tata', 'abc', 'xyz']}\n",
        "\n",
        "print(d2)\n",
        "print(d2['car'])\n",
        "print(d2['car'][1])\n",
        "print(type(d2))"
      ],
      "metadata": {
        "colab": {
          "base_uri": "https://localhost:8080/"
        },
        "id": "NF1wOMosmXuo",
        "outputId": "ef4fba68-7063-4bdb-c16b-af3b22f2d224"
      },
      "execution_count": null,
      "outputs": [
        {
          "output_type": "stream",
          "name": "stdout",
          "text": [
            "{'car': ['maruti', 'tata', 'kia'], 'bus': ['tata', 'abc', 'xyz']}\n",
            "['maruti', 'tata', 'kia']\n",
            "tata\n",
            "<class 'dict'>\n"
          ]
        }
      ]
    },
    {
      "cell_type": "code",
      "source": [
        "for x in l:\n",
        "  print(x)"
      ],
      "metadata": {
        "colab": {
          "base_uri": "https://localhost:8080/"
        },
        "id": "kxS3AVRbos2h",
        "outputId": "208fbdfd-ae7a-4795-fa6e-97a58c5d70e5"
      },
      "execution_count": null,
      "outputs": [
        {
          "output_type": "stream",
          "name": "stdout",
          "text": [
            "10\n",
            "20\n",
            "30\n"
          ]
        }
      ]
    },
    {
      "cell_type": "code",
      "source": [
        "for x in d2.items():\n",
        "  print(x)\n",
        "\n",
        "for x,y in d2.items():\n",
        "  print(x,y)\n"
      ],
      "metadata": {
        "colab": {
          "base_uri": "https://localhost:8080/"
        },
        "id": "m2mXvZQ4pA6i",
        "outputId": "a56f791c-9bc6-4744-f892-c704c94ed7bc"
      },
      "execution_count": null,
      "outputs": [
        {
          "output_type": "stream",
          "name": "stdout",
          "text": [
            "('car', ['maruti', 'tata', 'kia'])\n",
            "('bus', ['tata', 'abc', 'xyz'])\n",
            "car ['maruti', 'tata', 'kia']\n",
            "bus ['tata', 'abc', 'xyz']\n"
          ]
        }
      ]
    },
    {
      "cell_type": "code",
      "source": [
        "import pandas as pd"
      ],
      "metadata": {
        "id": "GaxDzVMSqzJT"
      },
      "execution_count": null,
      "outputs": []
    },
    {
      "cell_type": "code",
      "source": [
        "# Dataframe\n",
        "\n",
        "df = pd.DataFrame(d2)\n",
        "\n",
        "print(df)\n",
        "print('\\n')\n",
        "print(type(df))"
      ],
      "metadata": {
        "colab": {
          "base_uri": "https://localhost:8080/"
        },
        "id": "HNP80btrrolF",
        "outputId": "6c0cdeeb-b4e1-4266-ef00-13712187eeab"
      },
      "execution_count": null,
      "outputs": [
        {
          "output_type": "stream",
          "name": "stdout",
          "text": [
            "      car   bus\n",
            "0  maruti  tata\n",
            "1    tata   abc\n",
            "2     kia   xyz\n",
            "\n",
            "\n",
            "<class 'pandas.core.frame.DataFrame'>\n"
          ]
        }
      ]
    },
    {
      "cell_type": "code",
      "source": [
        "# print according to city and name\n",
        "\n",
        "d3 = {\n",
        "    'name':['a','b','c','d'],\n",
        "    'city':['x','y','z','w']\n",
        "}\n",
        "\n",
        "# make list\n",
        "lis = ['x', 'w']\n",
        "\n",
        "df = pd.DataFrame(d3)\n",
        "\n",
        "for i in range(len(lis)):\n",
        "  if (df['city'][i] == lis[i]):\n",
        "    print( df['city'][i] + ':' + df['name'][i] )\n"
      ],
      "metadata": {
        "colab": {
          "base_uri": "https://localhost:8080/"
        },
        "id": "nFcB9LG-swiq",
        "outputId": "e69c3569-3125-42c1-863a-e7366391f014"
      },
      "execution_count": null,
      "outputs": [
        {
          "output_type": "stream",
          "name": "stdout",
          "text": [
            "x:a\n",
            "y:b\n"
          ]
        }
      ]
    }
  ]
}