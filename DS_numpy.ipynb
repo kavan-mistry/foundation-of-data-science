{
  "cells": [
    {
      "cell_type": "markdown",
      "source": [
        "# Numpy basics"
      ],
      "metadata": {
        "id": "pvuNcqTaUTUV"
      },
      "id": "pvuNcqTaUTUV"
    },
    {
      "cell_type": "code",
      "execution_count": null,
      "id": "2a617fe0",
      "metadata": {
        "id": "2a617fe0"
      },
      "outputs": [],
      "source": [
        "import numpy as np"
      ]
    },
    {
      "cell_type": "code",
      "execution_count": null,
      "id": "24c37680",
      "metadata": {
        "id": "24c37680"
      },
      "outputs": [],
      "source": [
        "# Creating a NumPy array with values 1 to 5\n",
        "\n",
        "my_arr = np.array([1,2,3,4,5])"
      ]
    },
    {
      "cell_type": "code",
      "execution_count": null,
      "id": "a1c48d65",
      "metadata": {
        "colab": {
          "base_uri": "https://localhost:8080/"
        },
        "id": "a1c48d65",
        "outputId": "27e889f7-c6a2-490f-da8c-1e99c0e6d874"
      },
      "outputs": [
        {
          "output_type": "execute_result",
          "data": {
            "text/plain": [
              "array([1, 2, 3, 4, 5])"
            ]
          },
          "metadata": {},
          "execution_count": 22
        }
      ],
      "source": [
        "my_arr"
      ]
    },
    {
      "cell_type": "code",
      "execution_count": null,
      "id": "17f4c1a0",
      "metadata": {
        "colab": {
          "base_uri": "https://localhost:8080/"
        },
        "id": "17f4c1a0",
        "outputId": "18568d87-12f1-4a77-843c-e1db74266fb0"
      },
      "outputs": [
        {
          "output_type": "stream",
          "name": "stdout",
          "text": [
            "1\n",
            "2\n",
            "3\n",
            "4\n",
            "5\n"
          ]
        }
      ],
      "source": [
        "# Iterating through the elements of the array and printing each element\n",
        "\n",
        "for i in my_arr:\n",
        "  print(i)"
      ]
    },
    {
      "cell_type": "code",
      "execution_count": null,
      "id": "6b089da6",
      "metadata": {
        "colab": {
          "base_uri": "https://localhost:8080/"
        },
        "id": "6b089da6",
        "outputId": "4e410f1f-2a7f-43c2-cae7-99a465143b8d"
      },
      "outputs": [
        {
          "output_type": "stream",
          "name": "stdout",
          "text": [
            "[[10 12 44]\n",
            " [20 62 60]\n",
            " [56 94 99]]\n"
          ]
        }
      ],
      "source": [
        "# for multi dimentional array\n",
        "\n",
        "my_arr1 = np.array([[10,12,44],[20,62,60],[56,94,99]])\n",
        "my_arr1[1,0]\n",
        "print(my_arr1)"
      ]
    },
    {
      "cell_type": "code",
      "execution_count": null,
      "id": "bf972dc9",
      "metadata": {
        "colab": {
          "base_uri": "https://localhost:8080/"
        },
        "id": "bf972dc9",
        "outputId": "a6050f81-1ecb-4138-9394-f6b6a6cfe81e"
      },
      "outputs": [
        {
          "output_type": "execute_result",
          "data": {
            "text/plain": [
              "array([1, 2, 3])"
            ]
          },
          "metadata": {},
          "execution_count": 25
        }
      ],
      "source": [
        "# slicing array\n",
        "\n",
        "my_arr[0:3]"
      ]
    },
    {
      "cell_type": "code",
      "execution_count": null,
      "id": "875bc67e",
      "metadata": {
        "colab": {
          "base_uri": "https://localhost:8080/"
        },
        "id": "875bc67e",
        "outputId": "9a9655a3-fe05-45e3-f478-8878c982db99"
      },
      "outputs": [
        {
          "output_type": "execute_result",
          "data": {
            "text/plain": [
              "array([3, 4, 5])"
            ]
          },
          "metadata": {},
          "execution_count": 26
        }
      ],
      "source": [
        "# print last 3 elements\n",
        "\n",
        "my_arr[-3:]"
      ]
    },
    {
      "cell_type": "code",
      "execution_count": null,
      "id": "14fcfbd2",
      "metadata": {
        "colab": {
          "base_uri": "https://localhost:8080/"
        },
        "id": "14fcfbd2",
        "outputId": "12194612-3bec-4a8a-ebbe-b2c0bc5c4e75"
      },
      "outputs": [
        {
          "output_type": "execute_result",
          "data": {
            "text/plain": [
              "array([4, 5])"
            ]
          },
          "metadata": {},
          "execution_count": 27
        }
      ],
      "source": [
        "# get elements starting from index 3\n",
        "\n",
        "my_arr[3:]"
      ]
    },
    {
      "cell_type": "code",
      "execution_count": null,
      "id": "d454319c",
      "metadata": {
        "colab": {
          "base_uri": "https://localhost:8080/"
        },
        "id": "d454319c",
        "outputId": "3088b72c-4126-4d3c-cd36-e8838ad0906e"
      },
      "outputs": [
        {
          "output_type": "execute_result",
          "data": {
            "text/plain": [
              "array([3, 4])"
            ]
          },
          "metadata": {},
          "execution_count": 28
        }
      ],
      "source": [
        "# get elements starting from index -3 to -1\n",
        "\n",
        "my_arr[-3:-1]"
      ]
    },
    {
      "cell_type": "code",
      "execution_count": null,
      "id": "181efdb3",
      "metadata": {
        "colab": {
          "base_uri": "https://localhost:8080/"
        },
        "id": "181efdb3",
        "outputId": "aa869e1e-8476-46cf-bf59-109f6f2b794b"
      },
      "outputs": [
        {
          "output_type": "execute_result",
          "data": {
            "text/plain": [
              "array([5])"
            ]
          },
          "metadata": {},
          "execution_count": 29
        }
      ],
      "source": [
        "# get last element of array\n",
        "\n",
        "my_arr[-1:]"
      ]
    },
    {
      "cell_type": "code",
      "execution_count": null,
      "id": "d3b1f77f",
      "metadata": {
        "colab": {
          "base_uri": "https://localhost:8080/"
        },
        "id": "d3b1f77f",
        "outputId": "ea9e8d6f-c52d-4988-d1d4-575547791ec6"
      },
      "outputs": [
        {
          "output_type": "execute_result",
          "data": {
            "text/plain": [
              "5"
            ]
          },
          "metadata": {},
          "execution_count": 30
        }
      ],
      "source": [
        "# Accessing the last element of the array directly\n",
        "\n",
        "my_arr[-1]"
      ]
    },
    {
      "cell_type": "code",
      "execution_count": null,
      "id": "1aa27bc3",
      "metadata": {
        "colab": {
          "base_uri": "https://localhost:8080/"
        },
        "id": "1aa27bc3",
        "outputId": "956fa19f-e2e3-4acb-ff6a-0e86b08bf5b8"
      },
      "outputs": [
        {
          "output_type": "execute_result",
          "data": {
            "text/plain": [
              "array([3, 4])"
            ]
          },
          "metadata": {},
          "execution_count": 31
        }
      ],
      "source": [
        "# get elements from index 2 to 3\n",
        "\n",
        "my_arr[2:4]"
      ]
    },
    {
      "cell_type": "code",
      "execution_count": null,
      "id": "95d38b5e",
      "metadata": {
        "colab": {
          "base_uri": "https://localhost:8080/"
        },
        "id": "95d38b5e",
        "outputId": "5e42af00-bcec-4d31-a8af-e7685a1dd2f0"
      },
      "outputs": [
        {
          "output_type": "execute_result",
          "data": {
            "text/plain": [
              "array([10, 12, 44, 20, 62, 60, 56, 94, 99])"
            ]
          },
          "metadata": {},
          "execution_count": 32
        }
      ],
      "source": [
        "# reshape change the dimention\n",
        "\n",
        "# Reshaping the multi-dimensional array to a 1D array\n",
        "\n",
        "my_arr1.reshape(-1)"
      ]
    },
    {
      "cell_type": "code",
      "execution_count": null,
      "id": "2344f50e",
      "metadata": {
        "colab": {
          "base_uri": "https://localhost:8080/"
        },
        "id": "2344f50e",
        "outputId": "6d252160-908a-4459-b88d-12e9447761a4"
      },
      "outputs": [
        {
          "output_type": "execute_result",
          "data": {
            "text/plain": [
              "array([[10],\n",
              "       [12],\n",
              "       [44],\n",
              "       [20],\n",
              "       [62],\n",
              "       [60],\n",
              "       [56],\n",
              "       [94],\n",
              "       [99]])"
            ]
          },
          "metadata": {},
          "execution_count": 33
        }
      ],
      "source": [
        "# Reshaping the multi-dimensional array to a 9x1 matrix\n",
        "\n",
        "my_arr1.reshape(9,1)"
      ]
    },
    {
      "cell_type": "code",
      "execution_count": null,
      "id": "cfe04eff",
      "metadata": {
        "colab": {
          "base_uri": "https://localhost:8080/"
        },
        "id": "cfe04eff",
        "outputId": "7954b128-0bc0-4bf9-df32-3dbf4a939c98"
      },
      "outputs": [
        {
          "output_type": "execute_result",
          "data": {
            "text/plain": [
              "array([6, 7, 8, 9])"
            ]
          },
          "metadata": {},
          "execution_count": 34
        }
      ],
      "source": [
        "my_arr2 = np.array([6,7,8,9])\n",
        "my_arr2"
      ]
    },
    {
      "cell_type": "code",
      "execution_count": null,
      "id": "61e850f7",
      "metadata": {
        "colab": {
          "base_uri": "https://localhost:8080/"
        },
        "id": "61e850f7",
        "outputId": "fba847f1-4420-4a7e-9bba-27247af2c630"
      },
      "outputs": [
        {
          "output_type": "execute_result",
          "data": {
            "text/plain": [
              "array([1, 2, 3, 4, 5, 6, 7, 8, 9])"
            ]
          },
          "metadata": {},
          "execution_count": 35
        }
      ],
      "source": [
        "# Concatenating two arrays to create a new one\n",
        "\n",
        "my_ar3 = np.concatenate((my_arr, my_arr2))\n",
        "my_ar3"
      ]
    },
    {
      "cell_type": "code",
      "execution_count": null,
      "id": "30703541",
      "metadata": {
        "colab": {
          "base_uri": "https://localhost:8080/"
        },
        "id": "30703541",
        "outputId": "f0fca8a5-103f-4e77-bdee-15215ce4d305"
      },
      "outputs": [
        {
          "output_type": "execute_result",
          "data": {
            "text/plain": [
              "array([[10, 20],\n",
              "       [30, 40]])"
            ]
          },
          "metadata": {},
          "execution_count": 36
        }
      ],
      "source": [
        "# Creating 2x2 matrices\n",
        "\n",
        "x = np.array([[10,20],[30,40]])\n",
        "x"
      ]
    },
    {
      "cell_type": "code",
      "execution_count": null,
      "id": "3efdf527",
      "metadata": {
        "colab": {
          "base_uri": "https://localhost:8080/"
        },
        "id": "3efdf527",
        "outputId": "b3b747d3-897a-4c28-a82f-77e8e5fc75ec"
      },
      "outputs": [
        {
          "output_type": "execute_result",
          "data": {
            "text/plain": [
              "array([[50, 60],\n",
              "       [70, 80]])"
            ]
          },
          "metadata": {},
          "execution_count": 37
        }
      ],
      "source": [
        "y = np.array([[50,60],[70,80]])\n",
        "y"
      ]
    },
    {
      "cell_type": "code",
      "execution_count": null,
      "id": "01df1fab",
      "metadata": {
        "colab": {
          "base_uri": "https://localhost:8080/"
        },
        "id": "01df1fab",
        "outputId": "cdaa2e1e-ed39-4483-b51a-d4a790be23f6"
      },
      "outputs": [
        {
          "output_type": "execute_result",
          "data": {
            "text/plain": [
              "array([[10, 20, 50, 60],\n",
              "       [30, 40, 70, 80]])"
            ]
          },
          "metadata": {},
          "execution_count": 38
        }
      ],
      "source": [
        "# for column axis = 1, not possible for 1D array\n",
        "\n",
        "# Concatenating the matrices horizontally (along columns)\n",
        "\n",
        "z = np.concatenate((x,y), axis=1)\n",
        "z"
      ]
    }
  ],
  "metadata": {
    "kernelspec": {
      "display_name": "Python 3 (ipykernel)",
      "language": "python",
      "name": "python3"
    },
    "language_info": {
      "codemirror_mode": {
        "name": "ipython",
        "version": 3
      },
      "file_extension": ".py",
      "mimetype": "text/x-python",
      "name": "python",
      "nbconvert_exporter": "python",
      "pygments_lexer": "ipython3",
      "version": "3.9.13"
    },
    "colab": {
      "provenance": []
    }
  },
  "nbformat": 4,
  "nbformat_minor": 5
}